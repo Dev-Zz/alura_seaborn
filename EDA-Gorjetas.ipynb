{
 "cells": [
  {
   "cell_type": "markdown",
   "id": "056fd574-f1fd-4292-824d-d87d2955c0fb",
   "metadata": {
    "jp-MarkdownHeadingCollapsed": true,
    "tags": []
   },
   "source": [
    "# Importando base de dados"
   ]
  },
  {
   "cell_type": "code",
   "execution_count": 27,
   "id": "432015f7-3bd3-4ae3-9775-fe7fa512e496",
   "metadata": {},
   "outputs": [],
   "source": [
    "import pandas as pd\n",
    "data = pd.read_csv('tips.csv')"
   ]
  },
  {
   "cell_type": "code",
   "execution_count": 28,
   "id": "f38c37f1-e304-46ae-a119-e9a5912bffc0",
   "metadata": {},
   "outputs": [
    {
     "data": {
      "text/html": [
       "<div>\n",
       "<style scoped>\n",
       "    .dataframe tbody tr th:only-of-type {\n",
       "        vertical-align: middle;\n",
       "    }\n",
       "\n",
       "    .dataframe tbody tr th {\n",
       "        vertical-align: top;\n",
       "    }\n",
       "\n",
       "    .dataframe thead th {\n",
       "        text-align: right;\n",
       "    }\n",
       "</style>\n",
       "<table border=\"1\" class=\"dataframe\">\n",
       "  <thead>\n",
       "    <tr style=\"text-align: right;\">\n",
       "      <th></th>\n",
       "      <th>total_bill</th>\n",
       "      <th>tip</th>\n",
       "      <th>dessert</th>\n",
       "      <th>day</th>\n",
       "      <th>time</th>\n",
       "      <th>size</th>\n",
       "    </tr>\n",
       "  </thead>\n",
       "  <tbody>\n",
       "    <tr>\n",
       "      <th>0</th>\n",
       "      <td>16.99</td>\n",
       "      <td>1.01</td>\n",
       "      <td>No</td>\n",
       "      <td>Sun</td>\n",
       "      <td>Dinner</td>\n",
       "      <td>2</td>\n",
       "    </tr>\n",
       "    <tr>\n",
       "      <th>1</th>\n",
       "      <td>10.34</td>\n",
       "      <td>1.66</td>\n",
       "      <td>No</td>\n",
       "      <td>Sun</td>\n",
       "      <td>Dinner</td>\n",
       "      <td>3</td>\n",
       "    </tr>\n",
       "    <tr>\n",
       "      <th>2</th>\n",
       "      <td>21.01</td>\n",
       "      <td>3.50</td>\n",
       "      <td>No</td>\n",
       "      <td>Sun</td>\n",
       "      <td>Dinner</td>\n",
       "      <td>3</td>\n",
       "    </tr>\n",
       "    <tr>\n",
       "      <th>3</th>\n",
       "      <td>23.68</td>\n",
       "      <td>3.31</td>\n",
       "      <td>No</td>\n",
       "      <td>Sun</td>\n",
       "      <td>Dinner</td>\n",
       "      <td>2</td>\n",
       "    </tr>\n",
       "    <tr>\n",
       "      <th>4</th>\n",
       "      <td>24.59</td>\n",
       "      <td>3.61</td>\n",
       "      <td>No</td>\n",
       "      <td>Sun</td>\n",
       "      <td>Dinner</td>\n",
       "      <td>4</td>\n",
       "    </tr>\n",
       "  </tbody>\n",
       "</table>\n",
       "</div>"
      ],
      "text/plain": [
       "   total_bill   tip dessert  day    time  size\n",
       "0       16.99  1.01      No  Sun  Dinner     2\n",
       "1       10.34  1.66      No  Sun  Dinner     3\n",
       "2       21.01  3.50      No  Sun  Dinner     3\n",
       "3       23.68  3.31      No  Sun  Dinner     2\n",
       "4       24.59  3.61      No  Sun  Dinner     4"
      ]
     },
     "execution_count": 28,
     "metadata": {},
     "output_type": "execute_result"
    }
   ],
   "source": [
    "data.head()"
   ]
  },
  {
   "cell_type": "code",
   "execution_count": 29,
   "id": "bf2d41fd-fc13-4c5a-997d-ab236f999564",
   "metadata": {},
   "outputs": [
    {
     "data": {
      "text/html": [
       "<div>\n",
       "<style scoped>\n",
       "    .dataframe tbody tr th:only-of-type {\n",
       "        vertical-align: middle;\n",
       "    }\n",
       "\n",
       "    .dataframe tbody tr th {\n",
       "        vertical-align: top;\n",
       "    }\n",
       "\n",
       "    .dataframe thead th {\n",
       "        text-align: right;\n",
       "    }\n",
       "</style>\n",
       "<table border=\"1\" class=\"dataframe\">\n",
       "  <thead>\n",
       "    <tr style=\"text-align: right;\">\n",
       "      <th></th>\n",
       "      <th>total_bill</th>\n",
       "      <th>tip</th>\n",
       "      <th>dessert</th>\n",
       "      <th>day</th>\n",
       "      <th>time</th>\n",
       "      <th>size</th>\n",
       "    </tr>\n",
       "  </thead>\n",
       "  <tbody>\n",
       "    <tr>\n",
       "      <th>0</th>\n",
       "      <td>16.99</td>\n",
       "      <td>1.01</td>\n",
       "      <td>No</td>\n",
       "      <td>Sun</td>\n",
       "      <td>Dinner</td>\n",
       "      <td>2</td>\n",
       "    </tr>\n",
       "    <tr>\n",
       "      <th>1</th>\n",
       "      <td>10.34</td>\n",
       "      <td>1.66</td>\n",
       "      <td>No</td>\n",
       "      <td>Sun</td>\n",
       "      <td>Dinner</td>\n",
       "      <td>3</td>\n",
       "    </tr>\n",
       "    <tr>\n",
       "      <th>2</th>\n",
       "      <td>21.01</td>\n",
       "      <td>3.50</td>\n",
       "      <td>No</td>\n",
       "      <td>Sun</td>\n",
       "      <td>Dinner</td>\n",
       "      <td>3</td>\n",
       "    </tr>\n",
       "    <tr>\n",
       "      <th>3</th>\n",
       "      <td>23.68</td>\n",
       "      <td>3.31</td>\n",
       "      <td>No</td>\n",
       "      <td>Sun</td>\n",
       "      <td>Dinner</td>\n",
       "      <td>2</td>\n",
       "    </tr>\n",
       "    <tr>\n",
       "      <th>4</th>\n",
       "      <td>24.59</td>\n",
       "      <td>3.61</td>\n",
       "      <td>No</td>\n",
       "      <td>Sun</td>\n",
       "      <td>Dinner</td>\n",
       "      <td>4</td>\n",
       "    </tr>\n",
       "    <tr>\n",
       "      <th>...</th>\n",
       "      <td>...</td>\n",
       "      <td>...</td>\n",
       "      <td>...</td>\n",
       "      <td>...</td>\n",
       "      <td>...</td>\n",
       "      <td>...</td>\n",
       "    </tr>\n",
       "    <tr>\n",
       "      <th>239</th>\n",
       "      <td>29.03</td>\n",
       "      <td>5.92</td>\n",
       "      <td>No</td>\n",
       "      <td>Sat</td>\n",
       "      <td>Dinner</td>\n",
       "      <td>3</td>\n",
       "    </tr>\n",
       "    <tr>\n",
       "      <th>240</th>\n",
       "      <td>27.18</td>\n",
       "      <td>2.00</td>\n",
       "      <td>Yes</td>\n",
       "      <td>Sat</td>\n",
       "      <td>Dinner</td>\n",
       "      <td>2</td>\n",
       "    </tr>\n",
       "    <tr>\n",
       "      <th>241</th>\n",
       "      <td>22.67</td>\n",
       "      <td>2.00</td>\n",
       "      <td>Yes</td>\n",
       "      <td>Sat</td>\n",
       "      <td>Dinner</td>\n",
       "      <td>2</td>\n",
       "    </tr>\n",
       "    <tr>\n",
       "      <th>242</th>\n",
       "      <td>17.82</td>\n",
       "      <td>1.75</td>\n",
       "      <td>No</td>\n",
       "      <td>Sat</td>\n",
       "      <td>Dinner</td>\n",
       "      <td>2</td>\n",
       "    </tr>\n",
       "    <tr>\n",
       "      <th>243</th>\n",
       "      <td>18.78</td>\n",
       "      <td>3.00</td>\n",
       "      <td>No</td>\n",
       "      <td>Thur</td>\n",
       "      <td>Dinner</td>\n",
       "      <td>2</td>\n",
       "    </tr>\n",
       "  </tbody>\n",
       "</table>\n",
       "<p>244 rows × 6 columns</p>\n",
       "</div>"
      ],
      "text/plain": [
       "     total_bill   tip dessert   day    time  size\n",
       "0         16.99  1.01      No   Sun  Dinner     2\n",
       "1         10.34  1.66      No   Sun  Dinner     3\n",
       "2         21.01  3.50      No   Sun  Dinner     3\n",
       "3         23.68  3.31      No   Sun  Dinner     2\n",
       "4         24.59  3.61      No   Sun  Dinner     4\n",
       "..          ...   ...     ...   ...     ...   ...\n",
       "239       29.03  5.92      No   Sat  Dinner     3\n",
       "240       27.18  2.00     Yes   Sat  Dinner     2\n",
       "241       22.67  2.00     Yes   Sat  Dinner     2\n",
       "242       17.82  1.75      No   Sat  Dinner     2\n",
       "243       18.78  3.00      No  Thur  Dinner     2\n",
       "\n",
       "[244 rows x 6 columns]"
      ]
     },
     "execution_count": 29,
     "metadata": {},
     "output_type": "execute_result"
    }
   ],
   "source": [
    "data"
   ]
  },
  {
   "cell_type": "markdown",
   "id": "5e446d29-45af-4bb9-a2b6-2b7df0842636",
   "metadata": {},
   "source": [
    "# Tradução"
   ]
  },
  {
   "cell_type": "code",
   "execution_count": 30,
   "id": "35bbbc39-b1f8-42f1-88b9-8d359209189c",
   "metadata": {},
   "outputs": [
    {
     "data": {
      "text/plain": [
       "Index(['total_bill', 'tip', 'dessert', 'day', 'time', 'size'], dtype='object')"
      ]
     },
     "execution_count": 30,
     "metadata": {},
     "output_type": "execute_result"
    }
   ],
   "source": [
    "data.columns"
   ]
  },
  {
   "cell_type": "code",
   "execution_count": 31,
   "id": "4ce10459-45f2-4f25-8b2a-73afe569db71",
   "metadata": {},
   "outputs": [],
   "source": [
    "renomear = {'total_bill': 'valor_da_conta', \n",
    "            'tip' : 'gorjeta',\n",
    "            'dessert': 'sobremesa',\n",
    "            'day' : 'dia',\n",
    "            'time' : 'hora_do_dia',\n",
    "            'size': 'total_de_pessoas'}"
   ]
  },
  {
   "cell_type": "code",
   "execution_count": 32,
   "id": "bcd5a1d1-d4ba-4407-8ef0-7b4a2db27b65",
   "metadata": {},
   "outputs": [],
   "source": [
    "gorjetas = data.rename(columns = renomear)"
   ]
  },
  {
   "cell_type": "code",
   "execution_count": 33,
   "id": "ff4a94d1-3a91-47aa-bfbc-6d7cb18142c3",
   "metadata": {},
   "outputs": [
    {
     "data": {
      "text/html": [
       "<div>\n",
       "<style scoped>\n",
       "    .dataframe tbody tr th:only-of-type {\n",
       "        vertical-align: middle;\n",
       "    }\n",
       "\n",
       "    .dataframe tbody tr th {\n",
       "        vertical-align: top;\n",
       "    }\n",
       "\n",
       "    .dataframe thead th {\n",
       "        text-align: right;\n",
       "    }\n",
       "</style>\n",
       "<table border=\"1\" class=\"dataframe\">\n",
       "  <thead>\n",
       "    <tr style=\"text-align: right;\">\n",
       "      <th></th>\n",
       "      <th>valor_da_conta</th>\n",
       "      <th>gorjeta</th>\n",
       "      <th>sobremesa</th>\n",
       "      <th>dia</th>\n",
       "      <th>hora_do_dia</th>\n",
       "      <th>total_de_pessoas</th>\n",
       "    </tr>\n",
       "  </thead>\n",
       "  <tbody>\n",
       "    <tr>\n",
       "      <th>0</th>\n",
       "      <td>16.99</td>\n",
       "      <td>1.01</td>\n",
       "      <td>No</td>\n",
       "      <td>Sun</td>\n",
       "      <td>Dinner</td>\n",
       "      <td>2</td>\n",
       "    </tr>\n",
       "    <tr>\n",
       "      <th>1</th>\n",
       "      <td>10.34</td>\n",
       "      <td>1.66</td>\n",
       "      <td>No</td>\n",
       "      <td>Sun</td>\n",
       "      <td>Dinner</td>\n",
       "      <td>3</td>\n",
       "    </tr>\n",
       "    <tr>\n",
       "      <th>2</th>\n",
       "      <td>21.01</td>\n",
       "      <td>3.50</td>\n",
       "      <td>No</td>\n",
       "      <td>Sun</td>\n",
       "      <td>Dinner</td>\n",
       "      <td>3</td>\n",
       "    </tr>\n",
       "    <tr>\n",
       "      <th>3</th>\n",
       "      <td>23.68</td>\n",
       "      <td>3.31</td>\n",
       "      <td>No</td>\n",
       "      <td>Sun</td>\n",
       "      <td>Dinner</td>\n",
       "      <td>2</td>\n",
       "    </tr>\n",
       "    <tr>\n",
       "      <th>4</th>\n",
       "      <td>24.59</td>\n",
       "      <td>3.61</td>\n",
       "      <td>No</td>\n",
       "      <td>Sun</td>\n",
       "      <td>Dinner</td>\n",
       "      <td>4</td>\n",
       "    </tr>\n",
       "    <tr>\n",
       "      <th>...</th>\n",
       "      <td>...</td>\n",
       "      <td>...</td>\n",
       "      <td>...</td>\n",
       "      <td>...</td>\n",
       "      <td>...</td>\n",
       "      <td>...</td>\n",
       "    </tr>\n",
       "    <tr>\n",
       "      <th>239</th>\n",
       "      <td>29.03</td>\n",
       "      <td>5.92</td>\n",
       "      <td>No</td>\n",
       "      <td>Sat</td>\n",
       "      <td>Dinner</td>\n",
       "      <td>3</td>\n",
       "    </tr>\n",
       "    <tr>\n",
       "      <th>240</th>\n",
       "      <td>27.18</td>\n",
       "      <td>2.00</td>\n",
       "      <td>Yes</td>\n",
       "      <td>Sat</td>\n",
       "      <td>Dinner</td>\n",
       "      <td>2</td>\n",
       "    </tr>\n",
       "    <tr>\n",
       "      <th>241</th>\n",
       "      <td>22.67</td>\n",
       "      <td>2.00</td>\n",
       "      <td>Yes</td>\n",
       "      <td>Sat</td>\n",
       "      <td>Dinner</td>\n",
       "      <td>2</td>\n",
       "    </tr>\n",
       "    <tr>\n",
       "      <th>242</th>\n",
       "      <td>17.82</td>\n",
       "      <td>1.75</td>\n",
       "      <td>No</td>\n",
       "      <td>Sat</td>\n",
       "      <td>Dinner</td>\n",
       "      <td>2</td>\n",
       "    </tr>\n",
       "    <tr>\n",
       "      <th>243</th>\n",
       "      <td>18.78</td>\n",
       "      <td>3.00</td>\n",
       "      <td>No</td>\n",
       "      <td>Thur</td>\n",
       "      <td>Dinner</td>\n",
       "      <td>2</td>\n",
       "    </tr>\n",
       "  </tbody>\n",
       "</table>\n",
       "<p>244 rows × 6 columns</p>\n",
       "</div>"
      ],
      "text/plain": [
       "     valor_da_conta  gorjeta sobremesa   dia hora_do_dia  total_de_pessoas\n",
       "0             16.99     1.01        No   Sun      Dinner                 2\n",
       "1             10.34     1.66        No   Sun      Dinner                 3\n",
       "2             21.01     3.50        No   Sun      Dinner                 3\n",
       "3             23.68     3.31        No   Sun      Dinner                 2\n",
       "4             24.59     3.61        No   Sun      Dinner                 4\n",
       "..              ...      ...       ...   ...         ...               ...\n",
       "239           29.03     5.92        No   Sat      Dinner                 3\n",
       "240           27.18     2.00       Yes   Sat      Dinner                 2\n",
       "241           22.67     2.00       Yes   Sat      Dinner                 2\n",
       "242           17.82     1.75        No   Sat      Dinner                 2\n",
       "243           18.78     3.00        No  Thur      Dinner                 2\n",
       "\n",
       "[244 rows x 6 columns]"
      ]
     },
     "execution_count": 33,
     "metadata": {},
     "output_type": "execute_result"
    }
   ],
   "source": [
    "gorjetas"
   ]
  },
  {
   "cell_type": "code",
   "execution_count": 34,
   "id": "614b57c1-23b1-40b2-ba57-af7c7e989dc8",
   "metadata": {},
   "outputs": [
    {
     "data": {
      "text/plain": [
       "array(['No', 'Yes'], dtype=object)"
      ]
     },
     "execution_count": 34,
     "metadata": {},
     "output_type": "execute_result"
    }
   ],
   "source": [
    "gorjetas.sobremesa.unique()"
   ]
  },
  {
   "cell_type": "code",
   "execution_count": 35,
   "id": "9ae3f43d-a971-463c-a13e-2deab370e1ff",
   "metadata": {},
   "outputs": [],
   "source": [
    "sim_nao = {'No': 'Não',\n",
    "           'Yes': 'Sim'}"
   ]
  },
  {
   "cell_type": "code",
   "execution_count": 36,
   "id": "f6dc3d89-1d13-4c70-87fa-469ee1aac0eb",
   "metadata": {},
   "outputs": [],
   "source": [
    "gorjetas.sobremesa = gorjetas.sobremesa.map(sim_nao)"
   ]
  },
  {
   "cell_type": "code",
   "execution_count": 37,
   "id": "f3e230f3-c7bd-4640-be53-2ea66f31db71",
   "metadata": {},
   "outputs": [
    {
     "data": {
      "text/html": [
       "<div>\n",
       "<style scoped>\n",
       "    .dataframe tbody tr th:only-of-type {\n",
       "        vertical-align: middle;\n",
       "    }\n",
       "\n",
       "    .dataframe tbody tr th {\n",
       "        vertical-align: top;\n",
       "    }\n",
       "\n",
       "    .dataframe thead th {\n",
       "        text-align: right;\n",
       "    }\n",
       "</style>\n",
       "<table border=\"1\" class=\"dataframe\">\n",
       "  <thead>\n",
       "    <tr style=\"text-align: right;\">\n",
       "      <th></th>\n",
       "      <th>valor_da_conta</th>\n",
       "      <th>gorjeta</th>\n",
       "      <th>sobremesa</th>\n",
       "      <th>dia</th>\n",
       "      <th>hora_do_dia</th>\n",
       "      <th>total_de_pessoas</th>\n",
       "    </tr>\n",
       "  </thead>\n",
       "  <tbody>\n",
       "    <tr>\n",
       "      <th>0</th>\n",
       "      <td>16.99</td>\n",
       "      <td>1.01</td>\n",
       "      <td>Não</td>\n",
       "      <td>Sun</td>\n",
       "      <td>Dinner</td>\n",
       "      <td>2</td>\n",
       "    </tr>\n",
       "    <tr>\n",
       "      <th>1</th>\n",
       "      <td>10.34</td>\n",
       "      <td>1.66</td>\n",
       "      <td>Não</td>\n",
       "      <td>Sun</td>\n",
       "      <td>Dinner</td>\n",
       "      <td>3</td>\n",
       "    </tr>\n",
       "    <tr>\n",
       "      <th>2</th>\n",
       "      <td>21.01</td>\n",
       "      <td>3.50</td>\n",
       "      <td>Não</td>\n",
       "      <td>Sun</td>\n",
       "      <td>Dinner</td>\n",
       "      <td>3</td>\n",
       "    </tr>\n",
       "  </tbody>\n",
       "</table>\n",
       "</div>"
      ],
      "text/plain": [
       "   valor_da_conta  gorjeta sobremesa  dia hora_do_dia  total_de_pessoas\n",
       "0           16.99     1.01       Não  Sun      Dinner                 2\n",
       "1           10.34     1.66       Não  Sun      Dinner                 3\n",
       "2           21.01     3.50       Não  Sun      Dinner                 3"
      ]
     },
     "execution_count": 37,
     "metadata": {},
     "output_type": "execute_result"
    }
   ],
   "source": [
    "gorjetas.head(3)"
   ]
  },
  {
   "cell_type": "code",
   "execution_count": 38,
   "id": "91bdcf2a-c53f-479d-b968-08121760952a",
   "metadata": {},
   "outputs": [
    {
     "data": {
      "text/plain": [
       "array(['Sun', 'Sat', 'Thur', 'Fri'], dtype=object)"
      ]
     },
     "execution_count": 38,
     "metadata": {},
     "output_type": "execute_result"
    }
   ],
   "source": [
    "gorjetas.dia.unique()"
   ]
  },
  {
   "cell_type": "code",
   "execution_count": 39,
   "id": "8971297b-02aa-4dd6-b006-37c8bf642e0e",
   "metadata": {},
   "outputs": [],
   "source": [
    "dias = {'Sun' : 'Domingo', \n",
    "        'Sat' : 'Sábado', \n",
    "        'Thur' : 'Quinta', \n",
    "        'Fri' : 'Sexta'}"
   ]
  },
  {
   "cell_type": "code",
   "execution_count": 40,
   "id": "0c4fc98a-b17b-4436-9751-135b13f9382d",
   "metadata": {},
   "outputs": [],
   "source": [
    "gorjetas.dia = gorjetas.dia.map(dias)"
   ]
  },
  {
   "cell_type": "code",
   "execution_count": 41,
   "id": "b4aabd23-ff5a-4784-98fa-b12ad4793b8a",
   "metadata": {},
   "outputs": [
    {
     "data": {
      "text/html": [
       "<div>\n",
       "<style scoped>\n",
       "    .dataframe tbody tr th:only-of-type {\n",
       "        vertical-align: middle;\n",
       "    }\n",
       "\n",
       "    .dataframe tbody tr th {\n",
       "        vertical-align: top;\n",
       "    }\n",
       "\n",
       "    .dataframe thead th {\n",
       "        text-align: right;\n",
       "    }\n",
       "</style>\n",
       "<table border=\"1\" class=\"dataframe\">\n",
       "  <thead>\n",
       "    <tr style=\"text-align: right;\">\n",
       "      <th></th>\n",
       "      <th>valor_da_conta</th>\n",
       "      <th>gorjeta</th>\n",
       "      <th>sobremesa</th>\n",
       "      <th>dia</th>\n",
       "      <th>hora_do_dia</th>\n",
       "      <th>total_de_pessoas</th>\n",
       "    </tr>\n",
       "  </thead>\n",
       "  <tbody>\n",
       "    <tr>\n",
       "      <th>0</th>\n",
       "      <td>16.99</td>\n",
       "      <td>1.01</td>\n",
       "      <td>Não</td>\n",
       "      <td>Domingo</td>\n",
       "      <td>Dinner</td>\n",
       "      <td>2</td>\n",
       "    </tr>\n",
       "    <tr>\n",
       "      <th>1</th>\n",
       "      <td>10.34</td>\n",
       "      <td>1.66</td>\n",
       "      <td>Não</td>\n",
       "      <td>Domingo</td>\n",
       "      <td>Dinner</td>\n",
       "      <td>3</td>\n",
       "    </tr>\n",
       "    <tr>\n",
       "      <th>2</th>\n",
       "      <td>21.01</td>\n",
       "      <td>3.50</td>\n",
       "      <td>Não</td>\n",
       "      <td>Domingo</td>\n",
       "      <td>Dinner</td>\n",
       "      <td>3</td>\n",
       "    </tr>\n",
       "    <tr>\n",
       "      <th>3</th>\n",
       "      <td>23.68</td>\n",
       "      <td>3.31</td>\n",
       "      <td>Não</td>\n",
       "      <td>Domingo</td>\n",
       "      <td>Dinner</td>\n",
       "      <td>2</td>\n",
       "    </tr>\n",
       "    <tr>\n",
       "      <th>4</th>\n",
       "      <td>24.59</td>\n",
       "      <td>3.61</td>\n",
       "      <td>Não</td>\n",
       "      <td>Domingo</td>\n",
       "      <td>Dinner</td>\n",
       "      <td>4</td>\n",
       "    </tr>\n",
       "  </tbody>\n",
       "</table>\n",
       "</div>"
      ],
      "text/plain": [
       "   valor_da_conta  gorjeta sobremesa      dia hora_do_dia  total_de_pessoas\n",
       "0           16.99     1.01       Não  Domingo      Dinner                 2\n",
       "1           10.34     1.66       Não  Domingo      Dinner                 3\n",
       "2           21.01     3.50       Não  Domingo      Dinner                 3\n",
       "3           23.68     3.31       Não  Domingo      Dinner                 2\n",
       "4           24.59     3.61       Não  Domingo      Dinner                 4"
      ]
     },
     "execution_count": 41,
     "metadata": {},
     "output_type": "execute_result"
    }
   ],
   "source": [
    "gorjetas.head(5)"
   ]
  },
  {
   "cell_type": "code",
   "execution_count": 42,
   "id": "79e43013-793a-4201-bf92-e9d8d3a312d0",
   "metadata": {},
   "outputs": [
    {
     "data": {
      "text/plain": [
       "array(['Dinner', 'Lunch'], dtype=object)"
      ]
     },
     "execution_count": 42,
     "metadata": {},
     "output_type": "execute_result"
    }
   ],
   "source": [
    "gorjetas.hora_do_dia.unique()"
   ]
  },
  {
   "cell_type": "code",
   "execution_count": 43,
   "id": "fa463b2b-e4dd-4c41-b71a-b65cc97aacf4",
   "metadata": {},
   "outputs": [],
   "source": [
    "horas = {'Dinner' : 'Jantar', 'Lunch' : 'Almoço'}"
   ]
  },
  {
   "cell_type": "code",
   "execution_count": 44,
   "id": "e2e44d4b-4c6b-4fc1-8c2e-9fedf4162157",
   "metadata": {},
   "outputs": [],
   "source": [
    "gorjetas.hora_do_dia = gorjetas.hora_do_dia.map(horas)"
   ]
  },
  {
   "cell_type": "code",
   "execution_count": 45,
   "id": "02a212c1-a78c-4697-ae05-49088bb27179",
   "metadata": {},
   "outputs": [
    {
     "data": {
      "text/html": [
       "<div>\n",
       "<style scoped>\n",
       "    .dataframe tbody tr th:only-of-type {\n",
       "        vertical-align: middle;\n",
       "    }\n",
       "\n",
       "    .dataframe tbody tr th {\n",
       "        vertical-align: top;\n",
       "    }\n",
       "\n",
       "    .dataframe thead th {\n",
       "        text-align: right;\n",
       "    }\n",
       "</style>\n",
       "<table border=\"1\" class=\"dataframe\">\n",
       "  <thead>\n",
       "    <tr style=\"text-align: right;\">\n",
       "      <th></th>\n",
       "      <th>valor_da_conta</th>\n",
       "      <th>gorjeta</th>\n",
       "      <th>sobremesa</th>\n",
       "      <th>dia</th>\n",
       "      <th>hora_do_dia</th>\n",
       "      <th>total_de_pessoas</th>\n",
       "    </tr>\n",
       "  </thead>\n",
       "  <tbody>\n",
       "    <tr>\n",
       "      <th>0</th>\n",
       "      <td>16.99</td>\n",
       "      <td>1.01</td>\n",
       "      <td>Não</td>\n",
       "      <td>Domingo</td>\n",
       "      <td>Jantar</td>\n",
       "      <td>2</td>\n",
       "    </tr>\n",
       "    <tr>\n",
       "      <th>1</th>\n",
       "      <td>10.34</td>\n",
       "      <td>1.66</td>\n",
       "      <td>Não</td>\n",
       "      <td>Domingo</td>\n",
       "      <td>Jantar</td>\n",
       "      <td>3</td>\n",
       "    </tr>\n",
       "    <tr>\n",
       "      <th>2</th>\n",
       "      <td>21.01</td>\n",
       "      <td>3.50</td>\n",
       "      <td>Não</td>\n",
       "      <td>Domingo</td>\n",
       "      <td>Jantar</td>\n",
       "      <td>3</td>\n",
       "    </tr>\n",
       "    <tr>\n",
       "      <th>3</th>\n",
       "      <td>23.68</td>\n",
       "      <td>3.31</td>\n",
       "      <td>Não</td>\n",
       "      <td>Domingo</td>\n",
       "      <td>Jantar</td>\n",
       "      <td>2</td>\n",
       "    </tr>\n",
       "    <tr>\n",
       "      <th>4</th>\n",
       "      <td>24.59</td>\n",
       "      <td>3.61</td>\n",
       "      <td>Não</td>\n",
       "      <td>Domingo</td>\n",
       "      <td>Jantar</td>\n",
       "      <td>4</td>\n",
       "    </tr>\n",
       "    <tr>\n",
       "      <th>...</th>\n",
       "      <td>...</td>\n",
       "      <td>...</td>\n",
       "      <td>...</td>\n",
       "      <td>...</td>\n",
       "      <td>...</td>\n",
       "      <td>...</td>\n",
       "    </tr>\n",
       "    <tr>\n",
       "      <th>239</th>\n",
       "      <td>29.03</td>\n",
       "      <td>5.92</td>\n",
       "      <td>Não</td>\n",
       "      <td>Sábado</td>\n",
       "      <td>Jantar</td>\n",
       "      <td>3</td>\n",
       "    </tr>\n",
       "    <tr>\n",
       "      <th>240</th>\n",
       "      <td>27.18</td>\n",
       "      <td>2.00</td>\n",
       "      <td>Sim</td>\n",
       "      <td>Sábado</td>\n",
       "      <td>Jantar</td>\n",
       "      <td>2</td>\n",
       "    </tr>\n",
       "    <tr>\n",
       "      <th>241</th>\n",
       "      <td>22.67</td>\n",
       "      <td>2.00</td>\n",
       "      <td>Sim</td>\n",
       "      <td>Sábado</td>\n",
       "      <td>Jantar</td>\n",
       "      <td>2</td>\n",
       "    </tr>\n",
       "    <tr>\n",
       "      <th>242</th>\n",
       "      <td>17.82</td>\n",
       "      <td>1.75</td>\n",
       "      <td>Não</td>\n",
       "      <td>Sábado</td>\n",
       "      <td>Jantar</td>\n",
       "      <td>2</td>\n",
       "    </tr>\n",
       "    <tr>\n",
       "      <th>243</th>\n",
       "      <td>18.78</td>\n",
       "      <td>3.00</td>\n",
       "      <td>Não</td>\n",
       "      <td>Quinta</td>\n",
       "      <td>Jantar</td>\n",
       "      <td>2</td>\n",
       "    </tr>\n",
       "  </tbody>\n",
       "</table>\n",
       "<p>244 rows × 6 columns</p>\n",
       "</div>"
      ],
      "text/plain": [
       "     valor_da_conta  gorjeta sobremesa      dia hora_do_dia  total_de_pessoas\n",
       "0             16.99     1.01       Não  Domingo      Jantar                 2\n",
       "1             10.34     1.66       Não  Domingo      Jantar                 3\n",
       "2             21.01     3.50       Não  Domingo      Jantar                 3\n",
       "3             23.68     3.31       Não  Domingo      Jantar                 2\n",
       "4             24.59     3.61       Não  Domingo      Jantar                 4\n",
       "..              ...      ...       ...      ...         ...               ...\n",
       "239           29.03     5.92       Não   Sábado      Jantar                 3\n",
       "240           27.18     2.00       Sim   Sábado      Jantar                 2\n",
       "241           22.67     2.00       Sim   Sábado      Jantar                 2\n",
       "242           17.82     1.75       Não   Sábado      Jantar                 2\n",
       "243           18.78     3.00       Não   Quinta      Jantar                 2\n",
       "\n",
       "[244 rows x 6 columns]"
      ]
     },
     "execution_count": 45,
     "metadata": {},
     "output_type": "execute_result"
    }
   ],
   "source": [
    "gorjetas"
   ]
  },
  {
   "cell_type": "markdown",
   "id": "34fc103b-e072-4d7f-8979-e92b30ecf7f7",
   "metadata": {},
   "source": [
    "# Importando Seaborn"
   ]
  },
  {
   "cell_type": "code",
   "execution_count": 48,
   "id": "90fc93be-e999-4521-94f0-4b63e43bbc11",
   "metadata": {},
   "outputs": [
    {
     "name": "stdout",
     "output_type": "stream",
     "text": [
      "Requirement already satisfied: seaborn in c:\\users\\jose eduardo\\appdata\\local\\programs\\python\\python310\\lib\\site-packages (0.11.2)\n",
      "Requirement already satisfied: numpy>=1.15 in c:\\users\\jose eduardo\\appdata\\local\\programs\\python\\python310\\lib\\site-packages (from seaborn) (1.23.1)\n",
      "Requirement already satisfied: matplotlib>=2.2 in c:\\users\\jose eduardo\\appdata\\local\\programs\\python\\python310\\lib\\site-packages (from seaborn) (3.5.2)\n",
      "Requirement already satisfied: pandas>=0.23 in c:\\users\\jose eduardo\\appdata\\local\\programs\\python\\python310\\lib\\site-packages (from seaborn) (1.4.3)\n",
      "Requirement already satisfied: scipy>=1.0 in c:\\users\\jose eduardo\\appdata\\local\\programs\\python\\python310\\lib\\site-packages (from seaborn) (1.8.1)\n",
      "Requirement already satisfied: python-dateutil>=2.7 in c:\\users\\jose eduardo\\appdata\\local\\programs\\python\\python310\\lib\\site-packages (from matplotlib>=2.2->seaborn) (2.8.2)\n",
      "Requirement already satisfied: pyparsing>=2.2.1 in c:\\users\\jose eduardo\\appdata\\local\\programs\\python\\python310\\lib\\site-packages (from matplotlib>=2.2->seaborn) (3.0.9)\n",
      "Requirement already satisfied: fonttools>=4.22.0 in c:\\users\\jose eduardo\\appdata\\local\\programs\\python\\python310\\lib\\site-packages (from matplotlib>=2.2->seaborn) (4.34.4)\n",
      "Requirement already satisfied: pillow>=6.2.0 in c:\\users\\jose eduardo\\appdata\\local\\programs\\python\\python310\\lib\\site-packages (from matplotlib>=2.2->seaborn) (9.2.0)\n",
      "Requirement already satisfied: cycler>=0.10 in c:\\users\\jose eduardo\\appdata\\local\\programs\\python\\python310\\lib\\site-packages (from matplotlib>=2.2->seaborn) (0.11.0)\n",
      "Requirement already satisfied: kiwisolver>=1.0.1 in c:\\users\\jose eduardo\\appdata\\local\\programs\\python\\python310\\lib\\site-packages (from matplotlib>=2.2->seaborn) (1.4.4)\n",
      "Requirement already satisfied: packaging>=20.0 in c:\\users\\jose eduardo\\appdata\\local\\programs\\python\\python310\\lib\\site-packages (from matplotlib>=2.2->seaborn) (21.3)\n",
      "Requirement already satisfied: pytz>=2020.1 in c:\\users\\jose eduardo\\appdata\\local\\programs\\python\\python310\\lib\\site-packages (from pandas>=0.23->seaborn) (2022.1)\n",
      "Requirement already satisfied: six>=1.5 in c:\\users\\jose eduardo\\appdata\\local\\programs\\python\\python310\\lib\\site-packages (from python-dateutil>=2.7->matplotlib>=2.2->seaborn) (1.16.0)\n"
     ]
    },
    {
     "name": "stderr",
     "output_type": "stream",
     "text": [
      "WARNING: You are using pip version 22.0.4; however, version 22.2 is available.\n",
      "You should consider upgrading via the 'C:\\Users\\Jose Eduardo\\AppData\\Local\\Programs\\Python\\Python310\\python.exe -m pip install --upgrade pip' command.\n"
     ]
    }
   ],
   "source": [
    "!pip install seaborn"
   ]
  },
  {
   "cell_type": "code",
   "execution_count": 49,
   "id": "6bf99c5f-3924-4925-abc6-ec3b2957c906",
   "metadata": {},
   "outputs": [],
   "source": [
    "import seaborn as sns"
   ]
  },
  {
   "cell_type": "code",
   "execution_count": 50,
   "id": "a9bb2d26-2475-48d1-8642-d8b74bbf31ac",
   "metadata": {},
   "outputs": [
    {
     "name": "stdout",
     "output_type": "stream",
     "text": [
      "Name: seaborn\n",
      "Version: 0.11.2\n",
      "Summary: seaborn: statistical data visualization\n",
      "Home-page: https://seaborn.pydata.org\n",
      "Author: Michael Waskom\n",
      "Author-email: mwaskom@gmail.com\n",
      "License: BSD (3-clause)\n",
      "Location: c:\\users\\jose eduardo\\appdata\\local\\programs\\python\\python310\\lib\\site-packages\n",
      "Requires: matplotlib, numpy, pandas, scipy\n",
      "Required-by: \n",
      "Note: you may need to restart the kernel to use updated packages.\n"
     ]
    }
   ],
   "source": [
    "pip show seaborn"
   ]
  },
  {
   "cell_type": "markdown",
   "id": "9f8455bc-1e9d-46d8-b259-528eabdb43c5",
   "metadata": {},
   "source": [
    "# Análise 1 - Valor da conta e gorjeta"
   ]
  },
  {
   "cell_type": "code",
   "execution_count": 51,
   "id": "4fa67330-84e4-4c92-a611-c17e70abd2f8",
   "metadata": {
    "tags": []
   },
   "outputs": [
    {
     "data": {
      "text/html": [
       "<div>\n",
       "<style scoped>\n",
       "    .dataframe tbody tr th:only-of-type {\n",
       "        vertical-align: middle;\n",
       "    }\n",
       "\n",
       "    .dataframe tbody tr th {\n",
       "        vertical-align: top;\n",
       "    }\n",
       "\n",
       "    .dataframe thead th {\n",
       "        text-align: right;\n",
       "    }\n",
       "</style>\n",
       "<table border=\"1\" class=\"dataframe\">\n",
       "  <thead>\n",
       "    <tr style=\"text-align: right;\">\n",
       "      <th></th>\n",
       "      <th>valor_da_conta</th>\n",
       "      <th>gorjeta</th>\n",
       "      <th>sobremesa</th>\n",
       "      <th>dia</th>\n",
       "      <th>hora_do_dia</th>\n",
       "      <th>total_de_pessoas</th>\n",
       "    </tr>\n",
       "  </thead>\n",
       "  <tbody>\n",
       "    <tr>\n",
       "      <th>0</th>\n",
       "      <td>16.99</td>\n",
       "      <td>1.01</td>\n",
       "      <td>Não</td>\n",
       "      <td>Domingo</td>\n",
       "      <td>Jantar</td>\n",
       "      <td>2</td>\n",
       "    </tr>\n",
       "    <tr>\n",
       "      <th>1</th>\n",
       "      <td>10.34</td>\n",
       "      <td>1.66</td>\n",
       "      <td>Não</td>\n",
       "      <td>Domingo</td>\n",
       "      <td>Jantar</td>\n",
       "      <td>3</td>\n",
       "    </tr>\n",
       "    <tr>\n",
       "      <th>2</th>\n",
       "      <td>21.01</td>\n",
       "      <td>3.50</td>\n",
       "      <td>Não</td>\n",
       "      <td>Domingo</td>\n",
       "      <td>Jantar</td>\n",
       "      <td>3</td>\n",
       "    </tr>\n",
       "    <tr>\n",
       "      <th>3</th>\n",
       "      <td>23.68</td>\n",
       "      <td>3.31</td>\n",
       "      <td>Não</td>\n",
       "      <td>Domingo</td>\n",
       "      <td>Jantar</td>\n",
       "      <td>2</td>\n",
       "    </tr>\n",
       "    <tr>\n",
       "      <th>4</th>\n",
       "      <td>24.59</td>\n",
       "      <td>3.61</td>\n",
       "      <td>Não</td>\n",
       "      <td>Domingo</td>\n",
       "      <td>Jantar</td>\n",
       "      <td>4</td>\n",
       "    </tr>\n",
       "    <tr>\n",
       "      <th>...</th>\n",
       "      <td>...</td>\n",
       "      <td>...</td>\n",
       "      <td>...</td>\n",
       "      <td>...</td>\n",
       "      <td>...</td>\n",
       "      <td>...</td>\n",
       "    </tr>\n",
       "    <tr>\n",
       "      <th>239</th>\n",
       "      <td>29.03</td>\n",
       "      <td>5.92</td>\n",
       "      <td>Não</td>\n",
       "      <td>Sábado</td>\n",
       "      <td>Jantar</td>\n",
       "      <td>3</td>\n",
       "    </tr>\n",
       "    <tr>\n",
       "      <th>240</th>\n",
       "      <td>27.18</td>\n",
       "      <td>2.00</td>\n",
       "      <td>Sim</td>\n",
       "      <td>Sábado</td>\n",
       "      <td>Jantar</td>\n",
       "      <td>2</td>\n",
       "    </tr>\n",
       "    <tr>\n",
       "      <th>241</th>\n",
       "      <td>22.67</td>\n",
       "      <td>2.00</td>\n",
       "      <td>Sim</td>\n",
       "      <td>Sábado</td>\n",
       "      <td>Jantar</td>\n",
       "      <td>2</td>\n",
       "    </tr>\n",
       "    <tr>\n",
       "      <th>242</th>\n",
       "      <td>17.82</td>\n",
       "      <td>1.75</td>\n",
       "      <td>Não</td>\n",
       "      <td>Sábado</td>\n",
       "      <td>Jantar</td>\n",
       "      <td>2</td>\n",
       "    </tr>\n",
       "    <tr>\n",
       "      <th>243</th>\n",
       "      <td>18.78</td>\n",
       "      <td>3.00</td>\n",
       "      <td>Não</td>\n",
       "      <td>Quinta</td>\n",
       "      <td>Jantar</td>\n",
       "      <td>2</td>\n",
       "    </tr>\n",
       "  </tbody>\n",
       "</table>\n",
       "<p>244 rows × 6 columns</p>\n",
       "</div>"
      ],
      "text/plain": [
       "     valor_da_conta  gorjeta sobremesa      dia hora_do_dia  total_de_pessoas\n",
       "0             16.99     1.01       Não  Domingo      Jantar                 2\n",
       "1             10.34     1.66       Não  Domingo      Jantar                 3\n",
       "2             21.01     3.50       Não  Domingo      Jantar                 3\n",
       "3             23.68     3.31       Não  Domingo      Jantar                 2\n",
       "4             24.59     3.61       Não  Domingo      Jantar                 4\n",
       "..              ...      ...       ...      ...         ...               ...\n",
       "239           29.03     5.92       Não   Sábado      Jantar                 3\n",
       "240           27.18     2.00       Sim   Sábado      Jantar                 2\n",
       "241           22.67     2.00       Sim   Sábado      Jantar                 2\n",
       "242           17.82     1.75       Não   Sábado      Jantar                 2\n",
       "243           18.78     3.00       Não   Quinta      Jantar                 2\n",
       "\n",
       "[244 rows x 6 columns]"
      ]
     },
     "execution_count": 51,
     "metadata": {},
     "output_type": "execute_result"
    }
   ],
   "source": [
    "gorjetas"
   ]
  },
  {
   "cell_type": "code",
   "execution_count": 53,
   "id": "33616d79-d2f7-4439-91c2-f79912cde698",
   "metadata": {},
   "outputs": [
    {
     "data": {
      "image/png": "[encoded data removed]",
      "text/plain": [
       "<Figure size 432x288 with 1 Axes>"
      ]
     },
     "metadata": {
      "needs_background": "light"
     },
     "output_type": "display_data"
    }
   ],
   "source": [
    "valor_gorjeta = sns.scatterplot(x='valor_da_conta', y='gorjeta', data=gorjetas)"
   ]
  },
  {
   "cell_type": "markdown",
   "id": "acacffbc-3075-4ead-b71c-786a66f75419",
   "metadata": {},
   "source": [
    "Visualmente o valor da Gorjeta aumenta conforme o valor da conta."
   ]
  },
  {
   "cell_type": "code",
   "execution_count": 58,
   "id": "98d86247-5884-493e-bad6-ac2b22400417",
   "metadata": {},
   "outputs": [
    {
     "name": "stdout",
     "output_type": "stream",
     "text": [
      "A base de dados contém 244 registros\n",
      "\n",
      "Registros não nulos\n"
     ]
    },
    {
     "data": {
      "text/plain": [
       "valor_da_conta      244\n",
       "gorjeta             244\n",
       "sobremesa           244\n",
       "dia                 244\n",
       "hora_do_dia         244\n",
       "total_de_pessoas    244\n",
       "dtype: int64"
      ]
     },
     "execution_count": 58,
     "metadata": {},
     "output_type": "execute_result"
    }
   ],
   "source": [
    "print(f'A base de dados contém {gorjetas.shape[0]} registros')\n",
    "print()\n",
    "print(f'Registros não nulos')\n",
    "gorjetas.count()"
   ]
  },
  {
   "cell_type": "code",
   "execution_count": null,
   "id": "a9b26f13-c348-4117-8afa-4fc17f04dc00",
   "metadata": {},
   "outputs": [],
   "source": [
    "gorjetas.info()"
   ]
  },
  {
   "cell_type": "markdown",
   "id": "78d2b199-83b0-40c2-a99e-25737ab9b3ec",
   "metadata": {},
   "source": [
    "## Criando o campo porcentagem"
   ]
  },
  {
   "cell_type": "code",
   "execution_count": 59,
   "id": "2c85ea37-4963-484f-82ae-3b84cb8f969f",
   "metadata": {},
   "outputs": [
    {
     "data": {
      "text/html": [
       "<div>\n",
       "<style scoped>\n",
       "    .dataframe tbody tr th:only-of-type {\n",
       "        vertical-align: middle;\n",
       "    }\n",
       "\n",
       "    .dataframe tbody tr th {\n",
       "        vertical-align: top;\n",
       "    }\n",
       "\n",
       "    .dataframe thead th {\n",
       "        text-align: right;\n",
       "    }\n",
       "</style>\n",
       "<table border=\"1\" class=\"dataframe\">\n",
       "  <thead>\n",
       "    <tr style=\"text-align: right;\">\n",
       "      <th></th>\n",
       "      <th>valor_da_conta</th>\n",
       "      <th>gorjeta</th>\n",
       "      <th>sobremesa</th>\n",
       "      <th>dia</th>\n",
       "      <th>hora_do_dia</th>\n",
       "      <th>total_de_pessoas</th>\n",
       "    </tr>\n",
       "  </thead>\n",
       "  <tbody>\n",
       "    <tr>\n",
       "      <th>0</th>\n",
       "      <td>16.99</td>\n",
       "      <td>1.01</td>\n",
       "      <td>Não</td>\n",
       "      <td>Domingo</td>\n",
       "      <td>Jantar</td>\n",
       "      <td>2</td>\n",
       "    </tr>\n",
       "    <tr>\n",
       "      <th>1</th>\n",
       "      <td>10.34</td>\n",
       "      <td>1.66</td>\n",
       "      <td>Não</td>\n",
       "      <td>Domingo</td>\n",
       "      <td>Jantar</td>\n",
       "      <td>3</td>\n",
       "    </tr>\n",
       "    <tr>\n",
       "      <th>2</th>\n",
       "      <td>21.01</td>\n",
       "      <td>3.50</td>\n",
       "      <td>Não</td>\n",
       "      <td>Domingo</td>\n",
       "      <td>Jantar</td>\n",
       "      <td>3</td>\n",
       "    </tr>\n",
       "  </tbody>\n",
       "</table>\n",
       "</div>"
      ],
      "text/plain": [
       "   valor_da_conta  gorjeta sobremesa      dia hora_do_dia  total_de_pessoas\n",
       "0           16.99     1.01       Não  Domingo      Jantar                 2\n",
       "1           10.34     1.66       Não  Domingo      Jantar                 3\n",
       "2           21.01     3.50       Não  Domingo      Jantar                 3"
      ]
     },
     "execution_count": 59,
     "metadata": {},
     "output_type": "execute_result"
    }
   ],
   "source": [
    "gorjetas.head(3)"
   ]
  },
  {
   "cell_type": "code",
   "execution_count": 62,
   "id": "6e5d2692-cbf0-473f-b526-ea33c81cdc07",
   "metadata": {},
   "outputs": [],
   "source": [
    "gorjetas['porcentagem'] = gorjetas['gorjeta'] / gorjetas['valor_da_conta']\n",
    "gorjetas.porcentagem = gorjetas.porcentagem.round(2)"
   ]
  },
  {
   "cell_type": "code",
   "execution_count": 63,
   "id": "3a3c45c7-0dd0-465e-9570-14b689b5995e",
   "metadata": {},
   "outputs": [
    {
     "data": {
      "text/html": [
       "<div>\n",
       "<style scoped>\n",
       "    .dataframe tbody tr th:only-of-type {\n",
       "        vertical-align: middle;\n",
       "    }\n",
       "\n",
       "    .dataframe tbody tr th {\n",
       "        vertical-align: top;\n",
       "    }\n",
       "\n",
       "    .dataframe thead th {\n",
       "        text-align: right;\n",
       "    }\n",
       "</style>\n",
       "<table border=\"1\" class=\"dataframe\">\n",
       "  <thead>\n",
       "    <tr style=\"text-align: right;\">\n",
       "      <th></th>\n",
       "      <th>valor_da_conta</th>\n",
       "      <th>gorjeta</th>\n",
       "      <th>sobremesa</th>\n",
       "      <th>dia</th>\n",
       "      <th>hora_do_dia</th>\n",
       "      <th>total_de_pessoas</th>\n",
       "      <th>porcentagem</th>\n",
       "    </tr>\n",
       "  </thead>\n",
       "  <tbody>\n",
       "    <tr>\n",
       "      <th>0</th>\n",
       "      <td>16.99</td>\n",
       "      <td>1.01</td>\n",
       "      <td>Não</td>\n",
       "      <td>Domingo</td>\n",
       "      <td>Jantar</td>\n",
       "      <td>2</td>\n",
       "      <td>0.06</td>\n",
       "    </tr>\n",
       "    <tr>\n",
       "      <th>1</th>\n",
       "      <td>10.34</td>\n",
       "      <td>1.66</td>\n",
       "      <td>Não</td>\n",
       "      <td>Domingo</td>\n",
       "      <td>Jantar</td>\n",
       "      <td>3</td>\n",
       "      <td>0.16</td>\n",
       "    </tr>\n",
       "    <tr>\n",
       "      <th>2</th>\n",
       "      <td>21.01</td>\n",
       "      <td>3.50</td>\n",
       "      <td>Não</td>\n",
       "      <td>Domingo</td>\n",
       "      <td>Jantar</td>\n",
       "      <td>3</td>\n",
       "      <td>0.17</td>\n",
       "    </tr>\n",
       "    <tr>\n",
       "      <th>3</th>\n",
       "      <td>23.68</td>\n",
       "      <td>3.31</td>\n",
       "      <td>Não</td>\n",
       "      <td>Domingo</td>\n",
       "      <td>Jantar</td>\n",
       "      <td>2</td>\n",
       "      <td>0.14</td>\n",
       "    </tr>\n",
       "    <tr>\n",
       "      <th>4</th>\n",
       "      <td>24.59</td>\n",
       "      <td>3.61</td>\n",
       "      <td>Não</td>\n",
       "      <td>Domingo</td>\n",
       "      <td>Jantar</td>\n",
       "      <td>4</td>\n",
       "      <td>0.15</td>\n",
       "    </tr>\n",
       "  </tbody>\n",
       "</table>\n",
       "</div>"
      ],
      "text/plain": [
       "   valor_da_conta  gorjeta sobremesa      dia hora_do_dia  total_de_pessoas  \\\n",
       "0           16.99     1.01       Não  Domingo      Jantar                 2   \n",
       "1           10.34     1.66       Não  Domingo      Jantar                 3   \n",
       "2           21.01     3.50       Não  Domingo      Jantar                 3   \n",
       "3           23.68     3.31       Não  Domingo      Jantar                 2   \n",
       "4           24.59     3.61       Não  Domingo      Jantar                 4   \n",
       "\n",
       "   porcentagem  \n",
       "0         0.06  \n",
       "1         0.16  \n",
       "2         0.17  \n",
       "3         0.14  \n",
       "4         0.15  "
      ]
     },
     "execution_count": 63,
     "metadata": {},
     "output_type": "execute_result"
    }
   ],
   "source": [
    "gorjetas.head()"
   ]
  },
  {
   "cell_type": "code",
   "execution_count": 64,
   "id": "19d7061e-bcbe-4193-b5ac-f030e52c7d85",
   "metadata": {},
   "outputs": [
    {
     "data": {
      "image/png": "[encoded data removed]",
      "text/plain": [
       "<Figure size 432x288 with 1 Axes>"
      ]
     },
     "metadata": {
      "needs_background": "light"
     },
     "output_type": "display_data"
    }
   ],
   "source": [
    "porcentagem_conta = sns.scatterplot(x='valor_da_conta', y='porcentagem', data=gorjetas)"
   ]
  },
  {
   "cell_type": "markdown",
   "id": "008b0923-42d0-4c28-97f6-91bcd9e143f3",
   "metadata": {},
   "source": [
    "Visualmente o valor da conta não é proporcional ao valor da gorjeta."
   ]
  },
  {
   "cell_type": "code",
   "execution_count": 66,
   "id": "b4971323-6538-4c77-abd0-12480f0f33c7",
   "metadata": {},
   "outputs": [
    {
     "data": {
      "image/png": "[encoded data removed]",
      "text/plain": [
       "<Figure size 360x360 with 1 Axes>"
      ]
     },
     "metadata": {
      "needs_background": "light"
     },
     "output_type": "display_data"
    }
   ],
   "source": [
    "porcentagem_conta_linha = sns.relplot(x='valor_da_conta', y='porcentagem', kind='line', data=gorjetas)"
   ]
  },
  {
   "cell_type": "code",
   "execution_count": 68,
   "id": "de67e57a-09dc-4006-8bc3-4f9ee243007f",
   "metadata": {},
   "outputs": [
    {
     "data": {
      "image/png": "[encoded data removed]",
      "text/plain": [
       "<Figure size 360x360 with 1 Axes>"
      ]
     },
     "metadata": {
      "needs_background": "light"
     },
     "output_type": "display_data"
    }
   ],
   "source": [
    "porcentagem_lmplot= sns.lmplot(x='valor_da_conta', y= 'porcentagem', data=gorjetas)"
   ]
  },
  {
   "cell_type": "code",
   "execution_count": 69,
   "id": "24b169f9-bc33-48da-8d46-872390da89da",
   "metadata": {},
   "outputs": [
    {
     "data": {
      "text/plain": [
       "<seaborn.axisgrid.FacetGrid at 0x2273b4a6bc0>"
      ]
     },
     "execution_count": 69,
     "metadata": {},
     "output_type": "execute_result"
    }
   ],
   "source": [
    "porcentagem_lmplot.set_titles('Análise do valor da gorjeta em função do valor da conta')"
   ]
  },
  {
   "cell_type": "code",
   "execution_count": 70,
   "id": "d8f4bdf1-3033-46be-8b7f-a2e3889ab298",
   "metadata": {},
   "outputs": [
    {
     "data": {
      "text/plain": [
       "<seaborn.axisgrid.FacetGrid at 0x2273b4a6bc0>"
      ]
     },
     "execution_count": 70,
     "metadata": {},
     "output_type": "execute_result"
    }
   ],
   "source": [
    "porcentagem_lmplot"
   ]
  },
  {
   "cell_type": "code",
   "execution_count": null,
   "id": "0e452f9d-2c4a-4355-98c4-644ce1be1656",
   "metadata": {},
   "outputs": [],
   "source": []
  }
 ],
 "metadata": {
  "kernelspec": {
   "display_name": "Python 3 (ipykernel)",
   "language": "python",
   "name": "python3"
  },
  "language_info": {
   "codemirror_mode": {
    "name": "ipython",
    "version": 3
   },
   "file_extension": ".py",
   "mimetype": "text/x-python",
   "name": "python",
   "nbconvert_exporter": "python",
   "pygments_lexer": "ipython3",
   "version": "3.10.5"
  }
 },
 "nbformat": 4,
 "nbformat_minor": 5
}
